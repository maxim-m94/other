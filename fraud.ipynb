{
 "metadata": {
  "name": "",
  "signature": "sha256:4b7c196c3f226f38df6f73b520dd012bc3a79d4c1ac0fa4f1dd2084189a5d0bd"
 },
 "nbformat": 3,
 "nbformat_minor": 0,
 "worksheets": [
  {
   "cells": [
    {
     "cell_type": "code",
     "collapsed": false,
     "input": [
      "import pandas as pd\n",
      "import numpy as np\n",
      "from matplotlib import pyplot as plt\n",
      "from time import time\n",
      "import xlrd\n",
      "from matplotlib import offsetbox\n",
      "from sklearn import decomposition\n",
      "import xgboost as xgb\n",
      "%pylab inline"
     ],
     "language": "python",
     "metadata": {},
     "outputs": [
      {
       "output_type": "stream",
       "stream": "stdout",
       "text": [
        "Populating the interactive namespace from numpy and matplotlib\n"
       ]
      },
      {
       "output_type": "stream",
       "stream": "stderr",
       "text": [
        "WARNING: pylab import has clobbered these variables: ['f']\n",
        "`%matplotlib` prevents importing * from pylab and numpy\n"
       ]
      }
     ],
     "prompt_number": 48
    },
    {
     "cell_type": "code",
     "collapsed": false,
     "input": [
      "f = pd.read_excel(\"./\u0432\u044b\u0431\u043e\u0440\u043a\u0430.xlsx\")\n",
      "f.head()"
     ],
     "language": "python",
     "metadata": {},
     "outputs": [
      {
       "html": [
        "<div style=\"max-width:1500px;overflow:auto;\">\n",
        "<style>\n",
        "    .dataframe thead tr:only-child th {\n",
        "        text-align: right;\n",
        "    }\n",
        "\n",
        "    .dataframe thead th {\n",
        "        text-align: left;\n",
        "    }\n",
        "\n",
        "    .dataframe tbody tr th {\n",
        "        vertical-align: top;\n",
        "    }\n",
        "</style>\n",
        "<table border=\"1\" class=\"dataframe\">\n",
        "  <thead>\n",
        "    <tr style=\"text-align: right;\">\n",
        "      <th></th>\n",
        "      <th>\u2116 \u0441\u0442\u0440\u0430\u0445\u043e\u0432\u043e\u0433\u043e \u0441\u043e\u0431\u044b\u0442\u0438\u044f</th>\n",
        "      <th>\u0423\u0447\u0430\u0441\u0442\u043d\u0438\u043a 1</th>\n",
        "      <th>\u0423\u0447\u0430\u0441\u0442\u043d\u0438\u043a 2</th>\n",
        "    </tr>\n",
        "  </thead>\n",
        "  <tbody>\n",
        "    <tr>\n",
        "      <th>0</th>\n",
        "      <td>1</td>\n",
        "      <td>\u0411\u0435\u043b\u044f\u0435\u0432 \u0412\u043b\u0430\u0434\u0438\u0441\u043b\u0430\u0432 \u0410\u0440\u043a\u0430\u0434\u044c\u0435\u0432\u0438\u0447</td>\n",
        "      <td>\u0415\u0444\u0438\u043c\u043e\u0432 \u041c\u0430\u043b\u0438\u043a \u041a\u043e\u043d\u0441\u0442\u0430\u043d\u0442\u0438\u043d\u043e\u0432\u0438\u0447</td>\n",
        "    </tr>\n",
        "    <tr>\n",
        "      <th>1</th>\n",
        "      <td>2</td>\n",
        "      <td>\u0414\u0430\u0432\u044b\u0434\u043e\u0432\u0430 \u0410\u043d\u0443\u0448 \u041e\u0441\u043a\u0430\u0440\u043e\u0432\u043d\u0430</td>\n",
        "      <td>\u041d\u0438\u043a\u0438\u0444\u043e\u0440\u043e\u0432\u0430 \u0411\u043e\u0436\u0435\u043d\u0430 \u041b\u044c\u0432\u043e\u0432\u043d\u0430</td>\n",
        "    </tr>\n",
        "    <tr>\n",
        "      <th>2</th>\n",
        "      <td>3</td>\n",
        "      <td>\u0411\u0435\u043b\u043e\u0432 \u0421\u0435\u0440\u0433\u0435\u0439 \u041c\u0438\u0445\u0430\u0439\u043b\u043e\u0432\u0438\u0447</td>\n",
        "      <td>\u0422\u0440\u0435\u0442\u044c\u044f\u043a\u043e\u0432 \u041d\u0438\u043a\u0438\u0442\u0430 \u0425\u0430\u0440\u0438\u0442\u043e\u043d\u043e\u0432\u0438\u0447</td>\n",
        "    </tr>\n",
        "    <tr>\n",
        "      <th>3</th>\n",
        "      <td>4</td>\n",
        "      <td>\u0412\u043b\u0430\u0441\u043e\u0432 \u0410\u0440\u0442\u0451\u043c \u041c\u0438\u0445\u0430\u0439\u043b\u043e\u0432\u0438\u0447</td>\n",
        "      <td>\u0410\u043a\u0441\u0435\u043d\u043e\u0432\u0430 \u0412\u0435\u0440\u043e\u043d\u0438\u043a\u0430 \u041a\u0443\u0437\u044c\u043c\u0438\u043d\u0438\u0447\u043d\u0430</td>\n",
        "    </tr>\n",
        "    <tr>\n",
        "      <th>4</th>\n",
        "      <td>5</td>\n",
        "      <td>\u042f\u043a\u043e\u0432\u043b\u0435\u0432 \u0410\u043b\u0430\u043d \u041c\u0430\u043a\u0430\u0440\u043e\u0432\u0438\u0447</td>\n",
        "      <td>\u0421\u044b\u0441\u043e\u0435\u0432 \u0415\u043b\u0438\u0441\u0435\u0439 \u0422\u0438\u043c\u043e\u0444\u0435\u0435\u0432\u0438\u0447</td>\n",
        "    </tr>\n",
        "  </tbody>\n",
        "</table>\n",
        "</div>"
       ],
       "metadata": {},
       "output_type": "pyout",
       "prompt_number": 49,
       "text": [
        "   \u2116 \u0441\u0442\u0440\u0430\u0445\u043e\u0432\u043e\u0433\u043e \u0441\u043e\u0431\u044b\u0442\u0438\u044f                   \u0423\u0447\u0430\u0441\u0442\u043d\u0438\u043a 1  \\\n",
        "0                     1  \u0411\u0435\u043b\u044f\u0435\u0432 \u0412\u043b\u0430\u0434\u0438\u0441\u043b\u0430\u0432 \u0410\u0440\u043a\u0430\u0434\u044c\u0435\u0432\u0438\u0447   \n",
        "1                     2      \u0414\u0430\u0432\u044b\u0434\u043e\u0432\u0430 \u0410\u043d\u0443\u0448 \u041e\u0441\u043a\u0430\u0440\u043e\u0432\u043d\u0430   \n",
        "2                     3      \u0411\u0435\u043b\u043e\u0432 \u0421\u0435\u0440\u0433\u0435\u0439 \u041c\u0438\u0445\u0430\u0439\u043b\u043e\u0432\u0438\u0447   \n",
        "3                     4      \u0412\u043b\u0430\u0441\u043e\u0432 \u0410\u0440\u0442\u0451\u043c \u041c\u0438\u0445\u0430\u0439\u043b\u043e\u0432\u0438\u0447   \n",
        "4                     5       \u042f\u043a\u043e\u0432\u043b\u0435\u0432 \u0410\u043b\u0430\u043d \u041c\u0430\u043a\u0430\u0440\u043e\u0432\u0438\u0447   \n",
        "\n",
        "                      \u0423\u0447\u0430\u0441\u0442\u043d\u0438\u043a 2  \n",
        "0    \u0415\u0444\u0438\u043c\u043e\u0432 \u041c\u0430\u043b\u0438\u043a \u041a\u043e\u043d\u0441\u0442\u0430\u043d\u0442\u0438\u043d\u043e\u0432\u0438\u0447  \n",
        "1      \u041d\u0438\u043a\u0438\u0444\u043e\u0440\u043e\u0432\u0430 \u0411\u043e\u0436\u0435\u043d\u0430 \u041b\u044c\u0432\u043e\u0432\u043d\u0430  \n",
        "2   \u0422\u0440\u0435\u0442\u044c\u044f\u043a\u043e\u0432 \u041d\u0438\u043a\u0438\u0442\u0430 \u0425\u0430\u0440\u0438\u0442\u043e\u043d\u043e\u0432\u0438\u0447  \n",
        "3  \u0410\u043a\u0441\u0435\u043d\u043e\u0432\u0430 \u0412\u0435\u0440\u043e\u043d\u0438\u043a\u0430 \u041a\u0443\u0437\u044c\u043c\u0438\u043d\u0438\u0447\u043d\u0430  \n",
        "4       \u0421\u044b\u0441\u043e\u0435\u0432 \u0415\u043b\u0438\u0441\u0435\u0439 \u0422\u0438\u043c\u043e\u0444\u0435\u0435\u0432\u0438\u0447  "
       ]
      }
     ],
     "prompt_number": 49
    },
    {
     "cell_type": "code",
     "collapsed": false,
     "input": [
      "f.columns = [\"num\", \"part_1\", \"part_2\"]\n",
      "f.shape"
     ],
     "language": "python",
     "metadata": {},
     "outputs": [
      {
       "metadata": {},
       "output_type": "pyout",
       "prompt_number": 50,
       "text": [
        "(261, 3)"
       ]
      }
     ],
     "prompt_number": 50
    },
    {
     "cell_type": "markdown",
     "metadata": {},
     "source": [
      "\u0423 \u043d\u0430\u0441 \u0432\u0441\u0435\u0433\u043e 261 \u0437\u0430\u043f\u0438\u0441\u044c \u043f\u0440\u043e \u0441\u043e\u0431\u044b\u0442\u0438\u044f. \u0412 \u043a\u043b\u0435\u0442\u043a\u0435 \u043d\u0438\u0436\u0435 \u044f \u0441\u0442\u0440\u043e\u044e \u0433\u0440\u0430\u0444, \u0433\u0434\u0435 \u0440\u0435\u0431\u0440\u043e (v1, v2) \u0435\u0441\u0442\u044c \u0443\u0447\u0430\u0441\u0442\u0438\u0435 v1 \u0438 v2 \u0432 \u043e\u0434\u043d\u043e\u043c \u043f\u0440\u043e\u0438\u0441\u0448\u0435\u0441\u0442\u0432\u0438\u0438."
     ]
    },
    {
     "cell_type": "code",
     "collapsed": false,
     "input": [
      "A = {}\n",
      "edges = []\n",
      "ind_to_name = []\n",
      "for i in xrange(len(f)):\n",
      "    line = f[[\"part_1\", \"part_2\"]].iloc[i]\n",
      "    ind = [0,0]\n",
      "    for j in xrange(2):\n",
      "        if(A.has_key(line[j]) == True): \n",
      "            ind[j] = A[line[j]]\n",
      "        else:\n",
      "            ind[j] = len(A)\n",
      "            A[line[j]] = ind[j]\n",
      "            ind_to_name.append([])\n",
      "            ind_to_name[ind[j]] = line[j]\n",
      "            edges.append([])\n",
      "    edges[ind[0]].append(ind[1])\n",
      "    edges[ind[1]].append(ind[0])\n",
      "n = len(A)"
     ],
     "language": "python",
     "metadata": {},
     "outputs": [],
     "prompt_number": 51
    },
    {
     "cell_type": "markdown",
     "metadata": {},
     "source": [
      "\u0412\u043e\u0431\u0449\u0435\u043c-\u0442\u043e, \u0433\u0440\u0430\u0444 \u0430\u043d\u0430\u043b\u0438\u0437\u0438\u0440\u043e\u0432\u0430\u0442\u044c \u043d\u0435 \u043f\u0440\u0438\u0448\u043b\u043e\u0441\u044c, \u043f\u043e\u0442\u043e\u043c\u0443 \u043a\u0430\u043a \u0447\u0438\u0441\u043b\u043e \u0432\u0435\u0440\u0448\u0438\u043d \u043d\u0435\u043c\u043d\u043e\u0433\u0438\u043c \u043c\u0435\u043d\u044c\u0448\u0435 \u0443\u0434\u0432\u043e\u0435\u043d\u043d\u043e\u0433\u043e \u0447\u0438\u0441\u043b\u0430 \u0440\u0435\u0431\u0435\u0440, \u0438 \u043a\u0430\u043a \u0442\u0430\u043a\u043e\u0432\u043e\u0439 \u0441\u0442\u0440\u0443\u043a\u0442\u0443\u0440\u044b \u0443 \u0433\u0440\u0430\u0444\u0430 \u043d\u0435\u0442, \u0430 \u0437\u043d\u0430\u0447\u0438\u0442 \u0434\u043e\u0441\u0442\u0430\u0442\u043e\u0447\u043d\u043e \u043f\u043e\u0441\u043c\u043e\u0442\u0440\u0435\u0442\u044c \u043d\u0430 \u043a\u0430\u043a\u0438\u0435-\u0442\u043e \u043e\u0431\u0449\u0438\u0435 \u0445\u0430\u0440\u0430\u043a\u0442\u0435\u0440\u0438\u0441\u0442\u0438\u043a\u0438, \u0442\u0438\u043f\u0430 \u0441\u0442\u0435\u043f\u0435\u043d\u0438 \u0432\u0435\u0440\u0448\u0438\u043d\u044b, \u0447\u0442\u043e \u044f \u0438 \u0441\u0434\u0435\u043b\u0430\u043b."
     ]
    },
    {
     "cell_type": "code",
     "collapsed": false,
     "input": [
      "print n"
     ],
     "language": "python",
     "metadata": {},
     "outputs": [
      {
       "output_type": "stream",
       "stream": "stdout",
       "text": [
        "506\n"
       ]
      }
     ],
     "prompt_number": 52
    },
    {
     "cell_type": "markdown",
     "metadata": {},
     "source": [
      "\u0413\u0440\u0430\u0444\u0438\u043a \u043d\u0438\u0436\u0435 \u043f\u043e\u043a\u0430\u0437\u044b\u0432\u0430\u0435\u0442 \u0447\u0438\u0441\u043b\u043e \u0432\u0435\u0440\u0448\u0438\u043d \u0434\u043b\u044f \u043a\u0430\u0436\u0434\u043e\u0439 \u0441\u0442\u0435\u043f\u0435\u043d\u0438. \u041a\u0430\u043a \u043c\u044b \u0432\u0438\u0434\u0438\u043c, \u043f\u043e\u0447\u0442\u0438 \u0432\u0441\u0435 \u0443\u0447\u0430\u0441\u0442\u0432\u043e\u0432\u0430\u043b\u0438 \u0432 \u043f\u0440\u043e\u0438\u0441\u0448\u0435\u0441\u0442\u0432\u0438\u0438 \u043e\u0434\u0438\u043d \u0440\u0430\u0437. \u041f\u043e\u0441\u043a\u043e\u043b\u044c\u043a\u0443 \u0430\u0432\u0430\u0440\u0438\u044f \u0441\u043b\u0443\u0447\u0430\u0435\u0442\u0441\u044f \u0441 \u0447\u0435\u043b\u043e\u0432\u0435\u043a\u043e\u043c \u0441 \u043e\u0447\u0435\u043d\u044c \u043c\u0430\u043b\u044c\u0435\u043d\u044c\u043a\u043e\u0439 \u0432\u0435\u0440\u043e\u044f\u0442\u043d\u043e\u0441\u0442\u044c\u044e, \u0430 \u043d\u0430\u0448\u0430 \u0432\u044b\u0431\u043e\u0440\u043a\u0430 \u0432\u0441\u0435\u0433\u043e \u0438\u0437 200 \u0447\u0435\u043b\u043e\u0432\u0435\u043a, \u0442\u043e \u0432\u0435\u0440\u043e\u044f\u0442\u043d\u043e\u0441\u0442\u044c \u0442\u043e\u0433\u043e, \u0447\u0442\u043e \u043a\u0442\u043e-\u0442\u043e \u0438\u0437 \u0434\u0432\u0443\u0445 \u0441\u043e\u0442 \u0447\u0435\u043b\u043e\u0432\u0435\u043a \u0441\u043b\u0443\u0447\u0430\u0439\u043d\u043e \u043f\u043e\u043f\u0430\u043b \u0445\u043e\u0442\u044f \u0431\u044b \u0432 \u0434\u0432\u0435 \u0430\u0432\u0430\u0440\u0438\u0438 \u043e\u0447\u0435\u043d\u044c \u043c\u0430\u043b\u0430. \u041f\u043e\u044d\u0442\u043e\u043c\u0443, \u0431\u0443\u0434\u0435\u043c \u0441\u0447\u0438\u0442\u0430\u0442\u044c \u043c\u043e\u0448\u0435\u043d\u043d\u0438\u043a\u0430\u043c\u0438 \u0442\u0435\u0445, \u043a\u0442\u043e \u0445\u043e\u0442\u044f \u0431\u044b \u0434\u0432\u0430 \u0440\u0430\u0437\u0430 \u0443\u0447\u0430\u0441\u0442\u0432\u043e\u0432\u0430\u043b. \u0415\u0441\u043b\u0438 \u0431\u044b \u0440\u0430\u0441\u043f\u0440\u0435\u0434\u0435\u043b\u0435\u043d\u0438\u0435 \u0432\u044b\u0433\u043b\u044f\u0434\u0435\u043b\u043e \u0438\u043d\u0430\u0447\u0435, \u0440\u0430\u0441\u0441\u0443\u0436\u0434\u0435\u043d\u0438\u044f \u0431\u044b\u043b\u0438 \u0431\u044b, \u043a\u043e\u043d\u0435\u0447\u043d\u043e, \u0434\u0440\u0443\u0433\u0438\u043c\u0438."
     ]
    },
    {
     "cell_type": "code",
     "collapsed": false,
     "input": [
      "plt.figure(figsize = (10,4))\n",
      "plt.hist([len(x) for x in edges])\n",
      "plt.title(\"# of accidents per user distribution\")\n",
      "plt.show()"
     ],
     "language": "python",
     "metadata": {},
     "outputs": [
      {
       "metadata": {},
       "output_type": "display_data",
       "png": "[encoded data removed]",
       "text": [
        "<matplotlib.figure.Figure at 0x7f7bb025c250>"
       ]
      }
     ],
     "prompt_number": 53
    },
    {
     "cell_type": "markdown",
     "metadata": {},
     "source": [
      "\u0421\u043e\u0431\u044b\u0442\u0438\u0435 \u0441\u0447\u0438\u0442\u0430\u0435\u043c \u043c\u043e\u0448\u0435\u043d\u043d\u0438\u0447\u0435\u0441\u043a\u0438\u043c, \u0435\u0441\u043b\u0438 \u0432 \u043d\u0435\u043c \u0443\u0447\u0430\u0441\u0442\u0432\u043e\u0432\u0430\u043b \u0445\u043e\u0442\u044f \u0431\u044b \u043e\u0434\u0438\u043d \u043c\u043e\u0448\u0435\u043d\u043d\u0438\u043a."
     ]
    },
    {
     "cell_type": "code",
     "collapsed": false,
     "input": [
      "fraud_id = [x for x in xrange(len(edges)) if len(edges[x]) > 1]\n",
      "fraud_accidents = []\n",
      "for i in xrange(len(f)):\n",
      "    line = f.iloc[i]\n",
      "    if(A[line[1]] in fraud_id or A[line[2]] in fraud_id):\n",
      "        fraud_accidents.append(line[0])\n",
      "fraud_accidents = np.array(fraud_accidents)\n",
      "print \"id of fraud accidents:\"\n",
      "print fraud_accidents"
     ],
     "language": "python",
     "metadata": {},
     "outputs": [
      {
       "output_type": "stream",
       "stream": "stdout",
       "text": [
        "id of fraud accidents:\n",
        "[ 15  33  50  63  78  81  90 116 137 142 143 147 156 185 189 202 206 227\n",
        " 231 237]\n"
       ]
      }
     ],
     "prompt_number": 57
    },
    {
     "cell_type": "code",
     "collapsed": false,
     "input": [
      "d = pd.DataFrame(index = fraud_accidents)\n",
      "ans = f.join(d, on=\"num\", how = \"inner\")\n",
      "print \"final answer:\"\n",
      "ans"
     ],
     "language": "python",
     "metadata": {},
     "outputs": [
      {
       "output_type": "stream",
       "stream": "stdout",
       "text": [
        "final answer:\n"
       ]
      },
      {
       "html": [
        "<div style=\"max-width:1500px;overflow:auto;\">\n",
        "<style>\n",
        "    .dataframe thead tr:only-child th {\n",
        "        text-align: right;\n",
        "    }\n",
        "\n",
        "    .dataframe thead th {\n",
        "        text-align: left;\n",
        "    }\n",
        "\n",
        "    .dataframe tbody tr th {\n",
        "        vertical-align: top;\n",
        "    }\n",
        "</style>\n",
        "<table border=\"1\" class=\"dataframe\">\n",
        "  <thead>\n",
        "    <tr style=\"text-align: right;\">\n",
        "      <th></th>\n",
        "      <th>num</th>\n",
        "      <th>part_1</th>\n",
        "      <th>part_2</th>\n",
        "    </tr>\n",
        "  </thead>\n",
        "  <tbody>\n",
        "    <tr>\n",
        "      <th>14</th>\n",
        "      <td>15</td>\n",
        "      <td>\u0414\u043e\u0440\u043e\u0444\u0435\u0435\u0432\u0430 \u0413\u0443\u043b\u0438\u044f \u041d\u0438\u043a\u043e\u043b\u0430\u0435\u0432\u043d\u0430</td>\n",
        "      <td>\u041f\u0430\u0445\u043e\u043c\u043e\u0432 \u0410\u043d\u0430\u0442\u043e\u043b\u0438\u0439 \u0412\u0430\u0441\u0438\u043b\u044c\u0435\u0432\u0438\u0447</td>\n",
        "    </tr>\n",
        "    <tr>\n",
        "      <th>32</th>\n",
        "      <td>33</td>\n",
        "      <td>\u041a\u043e\u0442\u043e\u0432\u0430 \u0412\u0438\u043a\u0442\u043e\u0440\u0438\u044f \u0410\u0440\u0445\u0438\u043f\u043e\u0432\u043d\u0430</td>\n",
        "      <td>\u0426\u0432\u0435\u0442\u043a\u043e\u0432 \u0412\u0430\u043b\u0435\u0440\u0438\u0439 \u0420\u043e\u0441\u0442\u0438\u0441\u043b\u0430\u0432\u043e\u0432\u0438\u0447</td>\n",
        "    </tr>\n",
        "    <tr>\n",
        "      <th>49</th>\n",
        "      <td>50</td>\n",
        "      <td>\u041c\u0443\u0445\u0430\u043c\u0430\u0434\u0435\u0435\u0432 \u0410\u043b\u0435\u043a\u0441\u0430\u043d\u0434\u0440 \u0412\u0430\u043b\u0435\u0440\u044c\u0435\u0432\u0438\u0447</td>\n",
        "      <td>\u0421\u0435\u043d\u0447\u0443\u043a\u043e\u0432\u0430 \u0415\u043a\u0430\u0442\u0435\u0440\u0438\u043d\u0430 \u0421\u0435\u043c\u0435\u043d\u043e\u0432\u043d\u0430</td>\n",
        "    </tr>\n",
        "    <tr>\n",
        "      <th>62</th>\n",
        "      <td>63</td>\n",
        "      <td>\u041a\u043e\u043c\u0438\u043d \u0421\u0435\u0440\u0433\u0435\u0439 \u041d\u0438\u043a\u043e\u043b\u0430\u0435\u0432\u0438\u0447</td>\n",
        "      <td>\u041f\u0430\u0432\u043b\u043e\u0432\u0430 \u041c\u0430\u0440\u0438\u044f \u0413\u0435\u043d\u043d\u0430\u0434\u0438\u0435\u0432\u043d\u0430</td>\n",
        "    </tr>\n",
        "    <tr>\n",
        "      <th>77</th>\n",
        "      <td>78</td>\n",
        "      <td>\u0414\u043e\u0440\u043e\u0444\u0435\u0435\u0432\u0430 \u0413\u0443\u043b\u0438\u044f \u041d\u0438\u043a\u043e\u043b\u0430\u0435\u0432\u043d\u0430</td>\n",
        "      <td>\u0415\u043b\u0438\u0441\u0435\u0435\u0432\u0430 \u0421\u0430\u0442\u0438 \u0412\u044f\u0447\u0435\u0441\u043b\u0430\u0432\u043e\u0432\u043d\u0430</td>\n",
        "    </tr>\n",
        "    <tr>\n",
        "      <th>80</th>\n",
        "      <td>81</td>\n",
        "      <td>\u0414\u043e\u0440\u043e\u0444\u0435\u0435\u0432\u0430 \u0413\u0443\u043b\u0438\u044f \u041d\u0438\u043a\u043e\u043b\u0430\u0435\u0432\u043d\u0430</td>\n",
        "      <td>\u041c\u0438\u0440\u043e\u043d\u043e\u0432 \u041f\u0451\u0442\u0440 \u0410\u043b\u0435\u043a\u0441\u0430\u043d\u0434\u0440\u043e\u0432\u0438\u0447</td>\n",
        "    </tr>\n",
        "    <tr>\n",
        "      <th>89</th>\n",
        "      <td>90</td>\n",
        "      <td>\u0412\u043e\u0440\u043e\u0431\u044c\u0435\u0432 \u0418\u0432\u0430\u043d \u0410\u043b\u0435\u043a\u0441\u0430\u043d\u0434\u0440\u043e\u0432\u0438\u0447</td>\n",
        "      <td>\u041a\u043e\u043c\u0438\u043d \u0421\u0435\u0440\u0433\u0435\u0439 \u041d\u0438\u043a\u043e\u043b\u0430\u0435\u0432\u0438\u0447</td>\n",
        "    </tr>\n",
        "    <tr>\n",
        "      <th>115</th>\n",
        "      <td>116</td>\n",
        "      <td>\u0420\u043e\u0433\u0430\u0447\u0435\u0432 \u0410\u043d\u0442\u043e\u043d \u0412\u043b\u0430\u0434\u0438\u043c\u0438\u0440\u043e\u0432\u0438\u0447</td>\n",
        "      <td>\u0421\u0435\u043d\u0447\u0443\u043a\u043e\u0432\u0430 \u0415\u043a\u0430\u0442\u0435\u0440\u0438\u043d\u0430 \u0421\u0435\u043c\u0435\u043d\u043e\u0432\u043d\u0430</td>\n",
        "    </tr>\n",
        "    <tr>\n",
        "      <th>136</th>\n",
        "      <td>137</td>\n",
        "      <td>\u041c\u0443\u0445\u0430\u043c\u0430\u0434\u0435\u0435\u0432 \u0410\u043b\u0435\u043a\u0441\u0430\u043d\u0434\u0440 \u0412\u0430\u043b\u0435\u0440\u044c\u0435\u0432\u0438\u0447</td>\n",
        "      <td>\u041a\u043e\u0440\u043e\u0431\u043e\u0432 \u0412\u0430\u0434\u0438\u043c \u0410\u043b\u0435\u043a\u0441\u0430\u043d\u0434\u0440\u043e\u0432\u0438\u0447</td>\n",
        "    </tr>\n",
        "    <tr>\n",
        "      <th>141</th>\n",
        "      <td>142</td>\n",
        "      <td>\u0421\u0442\u0440\u0435\u043b\u043a\u043e\u0432 \u0415\u0432\u0433\u0435\u043d\u0438\u0439 \u0415\u0433\u043e\u0440\u043e\u0432\u0438\u0447</td>\n",
        "      <td>\u0410\u043b\u0435\u043a\u0441\u0430\u043d\u0434\u0440\u043e\u0432\u0430 \u041b\u0430\u0440\u0438\u0441\u0430 \u0415\u0432\u0433\u0435\u043d\u044c\u0435\u0432\u043d\u0430</td>\n",
        "    </tr>\n",
        "    <tr>\n",
        "      <th>142</th>\n",
        "      <td>143</td>\n",
        "      <td>\u041f\u0430\u0432\u043b\u043e\u0432\u0430 \u041c\u0430\u0440\u0438\u044f \u0413\u0435\u043d\u043d\u0430\u0434\u0438\u0435\u0432\u043d\u0430</td>\n",
        "      <td>\u0412\u043e\u0440\u043e\u0431\u044c\u0435\u0432 \u0418\u0432\u0430\u043d \u0410\u043b\u0435\u043a\u0441\u0430\u043d\u0434\u0440\u043e\u0432\u0438\u0447</td>\n",
        "    </tr>\n",
        "    <tr>\n",
        "      <th>146</th>\n",
        "      <td>147</td>\n",
        "      <td>\u0410\u0440\u0445\u0438\u043f\u043e\u0432\u0430 \u0410\u043d\u043d\u0430 \u0418\u0433\u043e\u0440\u0435\u0432\u043d\u0430</td>\n",
        "      <td>\u041c\u0430\u043c\u043e\u043d\u0442\u043e\u0432 \u041c\u0441\u0442\u0438\u0441\u043b\u0430\u0432 \u0413\u0435\u043e\u0440\u0433\u0438\u0435\u0432\u0438\u0447</td>\n",
        "    </tr>\n",
        "    <tr>\n",
        "      <th>155</th>\n",
        "      <td>156</td>\n",
        "      <td>\u041a\u043e\u0442\u043e\u0432\u0430 \u0412\u0438\u043a\u0442\u043e\u0440\u0438\u044f \u0410\u0440\u0445\u0438\u043f\u043e\u0432\u043d\u0430</td>\n",
        "      <td>\u041f\u0435\u0442\u0443\u0445\u043e\u0432\u0430 \u041c\u0435\u0434\u0438\u043d\u0430 \u041c\u0430\u043a\u0441\u0438\u043c\u043e\u0432\u043d\u0430</td>\n",
        "    </tr>\n",
        "    <tr>\n",
        "      <th>184</th>\n",
        "      <td>185</td>\n",
        "      <td>\u041a\u043e\u0440\u043e\u0431\u043e\u0432 \u0412\u0430\u0434\u0438\u043c \u0410\u043b\u0435\u043a\u0441\u0430\u043d\u0434\u0440\u043e\u0432\u0438\u0447</td>\n",
        "      <td>\u0420\u043e\u0433\u0430\u0447\u0435\u0432 \u0410\u043d\u0442\u043e\u043d \u0412\u043b\u0430\u0434\u0438\u043c\u0438\u0440\u043e\u0432\u0438\u0447</td>\n",
        "    </tr>\n",
        "    <tr>\n",
        "      <th>188</th>\n",
        "      <td>189</td>\n",
        "      <td>\u0413\u0430\u043b\u043a\u0438\u043d\u0430 \u0415\u043b\u0435\u043d\u0430 \u0422\u0430\u0440\u0430\u0441\u043e\u0432\u043d\u0430</td>\n",
        "      <td>\u0414\u043e\u0440\u043e\u0444\u0435\u0435\u0432\u0430 \u0413\u0443\u043b\u0438\u044f \u041d\u0438\u043a\u043e\u043b\u0430\u0435\u0432\u043d\u0430</td>\n",
        "    </tr>\n",
        "    <tr>\n",
        "      <th>201</th>\n",
        "      <td>202</td>\n",
        "      <td>\u041a\u043e\u0440\u043e\u043b\u0435\u0432\u0430 \u0420\u0430\u0434\u043c\u0438\u043b\u0430 \u041e\u043b\u0435\u0433\u043e\u0432\u043d\u0430</td>\n",
        "      <td>\u041a\u043e\u0442\u043e\u0432\u0430 \u0412\u0438\u043a\u0442\u043e\u0440\u0438\u044f \u0410\u0440\u0445\u0438\u043f\u043e\u0432\u043d\u0430</td>\n",
        "    </tr>\n",
        "    <tr>\n",
        "      <th>205</th>\n",
        "      <td>206</td>\n",
        "      <td>\u041c\u0430\u043c\u043e\u043d\u0442\u043e\u0432 \u041c\u0441\u0442\u0438\u0441\u043b\u0430\u0432 \u0413\u0435\u043e\u0440\u0433\u0438\u0435\u0432\u0438\u0447</td>\n",
        "      <td>\u0421\u0443\u0432\u043e\u0440\u043e\u0432 \u0418\u043b\u044c\u044f \u041c\u0430\u043a\u0430\u0440\u043e\u0432\u0438\u0447</td>\n",
        "    </tr>\n",
        "    <tr>\n",
        "      <th>226</th>\n",
        "      <td>227</td>\n",
        "      <td>\u0421\u0442\u0440\u0435\u043b\u043a\u043e\u0432 \u0415\u0432\u0433\u0435\u043d\u0438\u0439 \u0415\u0433\u043e\u0440\u043e\u0432\u0438\u0447</td>\n",
        "      <td>\u0421\u0438\u043b\u0438\u043d\u0430 \u0420\u0430\u0434\u043c\u0438\u043b\u0430 \u0412\u0438\u043a\u0442\u043e\u0440\u043e\u0432\u043d\u0430</td>\n",
        "    </tr>\n",
        "    <tr>\n",
        "      <th>230</th>\n",
        "      <td>231</td>\n",
        "      <td>\u0428\u0443\u0431\u0438\u043d \u0412\u0441\u0435\u0432\u043e\u043b\u043e\u0434 \u0412\u0430\u043b\u0435\u0440\u044c\u0435\u0432\u0438\u0447</td>\n",
        "      <td>\u0414\u043e\u0440\u043e\u0444\u0435\u0435\u0432\u0430 \u0413\u0443\u043b\u0438\u044f \u041d\u0438\u043a\u043e\u043b\u0430\u0435\u0432\u043d\u0430</td>\n",
        "    </tr>\n",
        "    <tr>\n",
        "      <th>236</th>\n",
        "      <td>237</td>\n",
        "      <td>\u0424\u0435\u0434\u043e\u0442\u043e\u0432 \u0420\u043e\u0441\u0442\u0438\u0441\u043b\u0430\u0432 \u0411\u043e\u0433\u0443\u0441\u043b\u0430\u0432\u043e\u0432\u0438\u0447</td>\n",
        "      <td>\u041c\u0430\u043c\u043e\u043d\u0442\u043e\u0432 \u041c\u0441\u0442\u0438\u0441\u043b\u0430\u0432 \u0413\u0435\u043e\u0440\u0433\u0438\u0435\u0432\u0438\u0447</td>\n",
        "    </tr>\n",
        "  </tbody>\n",
        "</table>\n",
        "</div>"
       ],
       "metadata": {},
       "output_type": "pyout",
       "prompt_number": 59,
       "text": [
        "     num                           part_1                          part_2\n",
        "14    15       \u0414\u043e\u0440\u043e\u0444\u0435\u0435\u0432\u0430 \u0413\u0443\u043b\u0438\u044f \u041d\u0438\u043a\u043e\u043b\u0430\u0435\u0432\u043d\u0430     \u041f\u0430\u0445\u043e\u043c\u043e\u0432 \u0410\u043d\u0430\u0442\u043e\u043b\u0438\u0439 \u0412\u0430\u0441\u0438\u043b\u044c\u0435\u0432\u0438\u0447\n",
        "32    33        \u041a\u043e\u0442\u043e\u0432\u0430 \u0412\u0438\u043a\u0442\u043e\u0440\u0438\u044f \u0410\u0440\u0445\u0438\u043f\u043e\u0432\u043d\u0430   \u0426\u0432\u0435\u0442\u043a\u043e\u0432 \u0412\u0430\u043b\u0435\u0440\u0438\u0439 \u0420\u043e\u0441\u0442\u0438\u0441\u043b\u0430\u0432\u043e\u0432\u0438\u0447\n",
        "49    50  \u041c\u0443\u0445\u0430\u043c\u0430\u0434\u0435\u0435\u0432 \u0410\u043b\u0435\u043a\u0441\u0430\u043d\u0434\u0440 \u0412\u0430\u043b\u0435\u0440\u044c\u0435\u0432\u0438\u0447   \u0421\u0435\u043d\u0447\u0443\u043a\u043e\u0432\u0430 \u0415\u043a\u0430\u0442\u0435\u0440\u0438\u043d\u0430 \u0421\u0435\u043c\u0435\u043d\u043e\u0432\u043d\u0430\n",
        "62    63          \u041a\u043e\u043c\u0438\u043d \u0421\u0435\u0440\u0433\u0435\u0439 \u041d\u0438\u043a\u043e\u043b\u0430\u0435\u0432\u0438\u0447       \u041f\u0430\u0432\u043b\u043e\u0432\u0430 \u041c\u0430\u0440\u0438\u044f \u0413\u0435\u043d\u043d\u0430\u0434\u0438\u0435\u0432\u043d\u0430\n",
        "77    78       \u0414\u043e\u0440\u043e\u0444\u0435\u0435\u0432\u0430 \u0413\u0443\u043b\u0438\u044f \u041d\u0438\u043a\u043e\u043b\u0430\u0435\u0432\u043d\u0430      \u0415\u043b\u0438\u0441\u0435\u0435\u0432\u0430 \u0421\u0430\u0442\u0438 \u0412\u044f\u0447\u0435\u0441\u043b\u0430\u0432\u043e\u0432\u043d\u0430\n",
        "80    81       \u0414\u043e\u0440\u043e\u0444\u0435\u0435\u0432\u0430 \u0413\u0443\u043b\u0438\u044f \u041d\u0438\u043a\u043e\u043b\u0430\u0435\u0432\u043d\u0430      \u041c\u0438\u0440\u043e\u043d\u043e\u0432 \u041f\u0451\u0442\u0440 \u0410\u043b\u0435\u043a\u0441\u0430\u043d\u0434\u0440\u043e\u0432\u0438\u0447\n",
        "89    90      \u0412\u043e\u0440\u043e\u0431\u044c\u0435\u0432 \u0418\u0432\u0430\u043d \u0410\u043b\u0435\u043a\u0441\u0430\u043d\u0434\u0440\u043e\u0432\u0438\u0447         \u041a\u043e\u043c\u0438\u043d \u0421\u0435\u0440\u0433\u0435\u0439 \u041d\u0438\u043a\u043e\u043b\u0430\u0435\u0432\u0438\u0447\n",
        "115  116       \u0420\u043e\u0433\u0430\u0447\u0435\u0432 \u0410\u043d\u0442\u043e\u043d \u0412\u043b\u0430\u0434\u0438\u043c\u0438\u0440\u043e\u0432\u0438\u0447   \u0421\u0435\u043d\u0447\u0443\u043a\u043e\u0432\u0430 \u0415\u043a\u0430\u0442\u0435\u0440\u0438\u043d\u0430 \u0421\u0435\u043c\u0435\u043d\u043e\u0432\u043d\u0430\n",
        "136  137  \u041c\u0443\u0445\u0430\u043c\u0430\u0434\u0435\u0435\u0432 \u0410\u043b\u0435\u043a\u0441\u0430\u043d\u0434\u0440 \u0412\u0430\u043b\u0435\u0440\u044c\u0435\u0432\u0438\u0447     \u041a\u043e\u0440\u043e\u0431\u043e\u0432 \u0412\u0430\u0434\u0438\u043c \u0410\u043b\u0435\u043a\u0441\u0430\u043d\u0434\u0440\u043e\u0432\u0438\u0447\n",
        "141  142        \u0421\u0442\u0440\u0435\u043b\u043a\u043e\u0432 \u0415\u0432\u0433\u0435\u043d\u0438\u0439 \u0415\u0433\u043e\u0440\u043e\u0432\u0438\u0447  \u0410\u043b\u0435\u043a\u0441\u0430\u043d\u0434\u0440\u043e\u0432\u0430 \u041b\u0430\u0440\u0438\u0441\u0430 \u0415\u0432\u0433\u0435\u043d\u044c\u0435\u0432\u043d\u0430\n",
        "142  143        \u041f\u0430\u0432\u043b\u043e\u0432\u0430 \u041c\u0430\u0440\u0438\u044f \u0413\u0435\u043d\u043d\u0430\u0434\u0438\u0435\u0432\u043d\u0430     \u0412\u043e\u0440\u043e\u0431\u044c\u0435\u0432 \u0418\u0432\u0430\u043d \u0410\u043b\u0435\u043a\u0441\u0430\u043d\u0434\u0440\u043e\u0432\u0438\u0447\n",
        "146  147           \u0410\u0440\u0445\u0438\u043f\u043e\u0432\u0430 \u0410\u043d\u043d\u0430 \u0418\u0433\u043e\u0440\u0435\u0432\u043d\u0430    \u041c\u0430\u043c\u043e\u043d\u0442\u043e\u0432 \u041c\u0441\u0442\u0438\u0441\u043b\u0430\u0432 \u0413\u0435\u043e\u0440\u0433\u0438\u0435\u0432\u0438\u0447\n",
        "155  156        \u041a\u043e\u0442\u043e\u0432\u0430 \u0412\u0438\u043a\u0442\u043e\u0440\u0438\u044f \u0410\u0440\u0445\u0438\u043f\u043e\u0432\u043d\u0430      \u041f\u0435\u0442\u0443\u0445\u043e\u0432\u0430 \u041c\u0435\u0434\u0438\u043d\u0430 \u041c\u0430\u043a\u0441\u0438\u043c\u043e\u0432\u043d\u0430\n",
        "184  185      \u041a\u043e\u0440\u043e\u0431\u043e\u0432 \u0412\u0430\u0434\u0438\u043c \u0410\u043b\u0435\u043a\u0441\u0430\u043d\u0434\u0440\u043e\u0432\u0438\u0447      \u0420\u043e\u0433\u0430\u0447\u0435\u0432 \u0410\u043d\u0442\u043e\u043d \u0412\u043b\u0430\u0434\u0438\u043c\u0438\u0440\u043e\u0432\u0438\u0447\n",
        "188  189          \u0413\u0430\u043b\u043a\u0438\u043d\u0430 \u0415\u043b\u0435\u043d\u0430 \u0422\u0430\u0440\u0430\u0441\u043e\u0432\u043d\u0430      \u0414\u043e\u0440\u043e\u0444\u0435\u0435\u0432\u0430 \u0413\u0443\u043b\u0438\u044f \u041d\u0438\u043a\u043e\u043b\u0430\u0435\u0432\u043d\u0430\n",
        "201  202        \u041a\u043e\u0440\u043e\u043b\u0435\u0432\u0430 \u0420\u0430\u0434\u043c\u0438\u043b\u0430 \u041e\u043b\u0435\u0433\u043e\u0432\u043d\u0430       \u041a\u043e\u0442\u043e\u0432\u0430 \u0412\u0438\u043a\u0442\u043e\u0440\u0438\u044f \u0410\u0440\u0445\u0438\u043f\u043e\u0432\u043d\u0430\n",
        "205  206     \u041c\u0430\u043c\u043e\u043d\u0442\u043e\u0432 \u041c\u0441\u0442\u0438\u0441\u043b\u0430\u0432 \u0413\u0435\u043e\u0440\u0433\u0438\u0435\u0432\u0438\u0447          \u0421\u0443\u0432\u043e\u0440\u043e\u0432 \u0418\u043b\u044c\u044f \u041c\u0430\u043a\u0430\u0440\u043e\u0432\u0438\u0447\n",
        "226  227        \u0421\u0442\u0440\u0435\u043b\u043a\u043e\u0432 \u0415\u0432\u0433\u0435\u043d\u0438\u0439 \u0415\u0433\u043e\u0440\u043e\u0432\u0438\u0447       \u0421\u0438\u043b\u0438\u043d\u0430 \u0420\u0430\u0434\u043c\u0438\u043b\u0430 \u0412\u0438\u043a\u0442\u043e\u0440\u043e\u0432\u043d\u0430\n",
        "230  231        \u0428\u0443\u0431\u0438\u043d \u0412\u0441\u0435\u0432\u043e\u043b\u043e\u0434 \u0412\u0430\u043b\u0435\u0440\u044c\u0435\u0432\u0438\u0447      \u0414\u043e\u0440\u043e\u0444\u0435\u0435\u0432\u0430 \u0413\u0443\u043b\u0438\u044f \u041d\u0438\u043a\u043e\u043b\u0430\u0435\u0432\u043d\u0430\n",
        "236  237   \u0424\u0435\u0434\u043e\u0442\u043e\u0432 \u0420\u043e\u0441\u0442\u0438\u0441\u043b\u0430\u0432 \u0411\u043e\u0433\u0443\u0441\u043b\u0430\u0432\u043e\u0432\u0438\u0447    \u041c\u0430\u043c\u043e\u043d\u0442\u043e\u0432 \u041c\u0441\u0442\u0438\u0441\u043b\u0430\u0432 \u0413\u0435\u043e\u0440\u0433\u0438\u0435\u0432\u0438\u0447"
       ]
      }
     ],
     "prompt_number": 59
    }
   ],
   "metadata": {}
  }
 ]
}